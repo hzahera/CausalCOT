{
 "cells": [
  {
   "cell_type": "markdown",
   "id": "ce017f24-15d6-40b1-a3e7-a131f8b86c36",
   "metadata": {},
   "source": [
    "### Specify the dataset: "
   ]
  },
  {
   "cell_type": "code",
   "execution_count": 1,
   "id": "917cde01-68fb-43b4-8f40-64f6adf540b3",
   "metadata": {
    "tags": []
   },
   "outputs": [],
   "source": [
    "# specify the name of dataset: \"hotpotqa_valid_original_split.csv\", \"gooaq_valid_original_split.csv\", or \"msmarco_valid_original_split.csv\"\n",
    "dataset_name= \"msmarco_valid_original_split.csv\"\n",
    "\n",
    "path= \"../../dataset/test/\"+dataset_name\n",
    "\n",
    "out_dir='../../output/UnifiedQA-results/COTs'\n",
    "\n",
    "# name of the fine-tuned model, the pre-trained model is named: \"msmarco-original-split/\", \"hotpotqa-original-split/\" or \"gooaq-original-split/\"\n",
    "model_name= \"msmarco-original-split/\""
   ]
  },
  {
   "cell_type": "code",
   "execution_count": 2,
   "id": "b623879b-c322-48c8-9d99-6874207699fb",
   "metadata": {
    "tags": []
   },
   "outputs": [],
   "source": [
    "# specify the chain-of-thoughts prompt: \n",
    "COTs_prompt= \"Find the answer of the question from the context: \\n\""
   ]
  },
  {
   "cell_type": "markdown",
   "id": "d443d7f6-b644-4331-8fae-a74fc64aacfb",
   "metadata": {},
   "source": [
    "### Configuration of UnifiedQA model: "
   ]
  },
  {
   "cell_type": "code",
   "execution_count": 3,
   "id": "c6a7633e-565d-4052-9722-f208a728ae97",
   "metadata": {
    "tags": []
   },
   "outputs": [
    {
     "name": "stderr",
     "output_type": "stream",
     "text": [
      "/upb/users/z/zahera/profiles/unix/cs/.conda/envs/causalQA/lib/python3.10/site-packages/tqdm/auto.py:21: TqdmWarning: IProgress not found. Please update jupyter and ipywidgets. See https://ipywidgets.readthedocs.io/en/stable/user_install.html\n",
      "  from .autonotebook import tqdm as notebook_tqdm\n"
     ]
    }
   ],
   "source": [
    "import pandas as pd\n",
    "import os\n",
    "import json\n",
    "\n",
    "from transformers import T5Tokenizer, T5ForConditionalGeneration, set_seed\n",
    "set_seed(42)"
   ]
  },
  {
   "cell_type": "code",
   "execution_count": 4,
   "id": "95e26488-7b58-4ad2-b0fd-f45f65091cbe",
   "metadata": {},
   "outputs": [
    {
     "name": "stderr",
     "output_type": "stream",
     "text": [
      "You are using the default legacy behaviour of the <class 'transformers.models.t5.tokenization_t5.T5Tokenizer'>. If you see this, DO NOT PANIC! This is expected, and simply means that the `legacy` (previous) behavior will be used so nothing changes for you. If you want to use the new behaviour, set `legacy=True`. This should only be set if you understand what it means, and thouroughly read the reason why this was added as explained in https://github.com/huggingface/transformers/pull/24565\n"
     ]
    }
   ],
   "source": [
    "tokenizer = T5Tokenizer.from_pretrained(\"allenai/unifiedqa-v2-t5-base-1363200\")\n",
    "\n",
    "model_path = \"../../Webis-CausalQA-22-v-2.0/models/original_splits/\"+ model_name\n",
    "\n",
    "model = T5ForConditionalGeneration.from_pretrained(model_path)"
   ]
  },
  {
   "cell_type": "code",
   "execution_count": 5,
   "id": "5a876a22-034e-4454-80d3-066171d86983",
   "metadata": {},
   "outputs": [],
   "source": [
    "def run_model(input_string, **generator_args):\n",
    "    input_ids = tokenizer.encode(input_string, max_length=1000,truncation=True, return_tensors=\"pt\")\n",
    "    res = model.generate(input_ids, max_length=200, **generator_args)\n",
    "    \n",
    "    return tokenizer.batch_decode(res, skip_special_tokens=True)"
   ]
  },
  {
   "cell_type": "markdown",
   "id": "3f38e133-3368-428c-8670-736a4d7c245a",
   "metadata": {},
   "source": [
    "### Load the datasets:"
   ]
  },
  {
   "cell_type": "code",
   "execution_count": null,
   "id": "6e9a382a-fb1d-4ea9-978e-8ce843dc0aab",
   "metadata": {
    "tags": []
   },
   "outputs": [],
   "source": [
    "dataset_df= pd.read_csv(path)\n",
    "\n",
    "dataset_df['generated_answer']=\"\"\n",
    "\n",
    "#iterate over the questions and answers: \n",
    "for row in dataset_df.itertuples():\n",
    "    \n",
    "    # answer the question using the model\n",
    "    if row.context_processed!='' : \n",
    "        input_query= row.question_processed+'\\n'+COTs_prompt+row.context_processed\n",
    "    else: \n",
    "         input_query= \"Let's think step by step to answer the question: \"+row.question_processed\n",
    "        \n",
    "    # answer the question using the model\n",
    "    generated_answer=run_model(input_query)\n",
    "    \n",
    "    dataset_df.loc[row.Index,'generated_answer']= generated_answer[0]\n",
    "\n",
    "    \n",
    "dataset_df.to_csv(out_dir+'/'+dataset_name)"
   ]
  },
  {
   "cell_type": "markdown",
   "id": "018982a2-b4c3-48e1-8f8b-38ae8114af45",
   "metadata": {
    "tags": []
   },
   "source": [
    "### Evaluation using EM and F1 metrics: "
   ]
  },
  {
   "cell_type": "code",
   "execution_count": null,
   "id": "59aa143c-1cc6-44f5-9561-1cb09fa26977",
   "metadata": {
    "tags": []
   },
   "outputs": [],
   "source": [
    "import sys\n",
    "sys.path.append('../../src')\n",
    "\n",
    "import measures"
   ]
  },
  {
   "cell_type": "code",
   "execution_count": null,
   "id": "1cdc0acd-9545-42f4-8a77-b5da7c1d1fd7",
   "metadata": {},
   "outputs": [],
   "source": [
    " os.chdir(out_dir)\n",
    "\n",
    "def evaluate_unifiedqa(predictions, answers):\n",
    "    \n",
    "    result = {}\n",
    "    result['checkpoint'] = model_name\n",
    "    result['metrics'] = measures.all_metrics(predictions, answers)\n",
    "    result['predictions'] = predictions\n",
    "\n",
    "   \n",
    "    filename=dataset_name.split('.')[0]\n",
    "    filename=filename+\".json\"\n",
    "    \n",
    "    with open(filename, 'w+') as file:\n",
    "        json.dump(result, file, indent=4)\n",
    "        \n",
    "    print ('results saved at ', out_dir+\"/\"+filename)"
   ]
  },
  {
   "cell_type": "code",
   "execution_count": null,
   "id": "66b07da5-6ade-4659-a43f-decec5ab8126",
   "metadata": {
    "tags": []
   },
   "outputs": [],
   "source": [
    "predictions= dataset_df['generated_answer'].tolist()\n",
    "answers= dataset_df['answer_processed'].tolist()\n",
    "\n",
    "answers= [[answer] for answer in answers]\n",
    "\n",
    "evaluate_unifiedqa(predictions, answers)"
   ]
  },
  {
   "cell_type": "code",
   "execution_count": null,
   "id": "4a8d4e86-e0a8-45fa-a2af-feaa36871bae",
   "metadata": {},
   "outputs": [],
   "source": []
  }
 ],
 "metadata": {
  "kernelspec": {
   "display_name": "causalQA",
   "language": "python",
   "name": "causalqa"
  },
  "language_info": {
   "codemirror_mode": {
    "name": "ipython",
    "version": 3
   },
   "file_extension": ".py",
   "mimetype": "text/x-python",
   "name": "python",
   "nbconvert_exporter": "python",
   "pygments_lexer": "ipython3",
   "version": "3.10.0"
  }
 },
 "nbformat": 4,
 "nbformat_minor": 5
}
