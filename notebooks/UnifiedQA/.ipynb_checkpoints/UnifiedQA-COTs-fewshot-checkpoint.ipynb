{
 "cells": [
  {
   "cell_type": "markdown",
   "id": "0c7e22c5-ab9f-4ffe-8dd5-f98100d03da4",
   "metadata": {},
   "source": [
    "### Specify the dataset: "
   ]
  },
  {
   "cell_type": "code",
   "execution_count": 1,
   "id": "8be63ea6-01ed-4703-9a46-ddb17442a73a",
   "metadata": {},
   "outputs": [],
   "source": [
    "# specify the name of dataset: \"hotpotqa_valid_original_split.csv\", \"gooaq_valid_original_split.csv\", or \"msmarco_valid_original_split.csv\"\n",
    "dataset_name= \"gooaq_valid_original_split.csv\"\n",
    "\n",
    "path= \"../../dataset/test/\"+dataset_name\n",
    "\n",
    "out_dir='../../output/UnifiedQA-results/COTs-fewshot/'\n",
    "\n",
    "# name of the fine-tuned model, the pre-trained model is named: \"msmarco-original-split/\", \"hotpotqa-original-split/\" or \"gooaq-original-split/\"\n",
    "model_name= \"gooaq-original-split/\"\n"
   ]
  },
  {
   "cell_type": "markdown",
   "id": "3dd82e08-f097-4007-b399-23fb1ced4699",
   "metadata": {},
   "source": [
    "### Few-shot examples: "
   ]
  },
  {
   "cell_type": "code",
   "execution_count": 2,
   "id": "398307cd-a167-4764-9706-bde199e2aab3",
   "metadata": {
    "tags": []
   },
   "outputs": [],
   "source": [
    "few_shot= \"\"\"\n",
    "[question_1]: How does smoking cause cancer?\\n\n",
    "[answer_1]: \n",
    "Smoking damages the DNA in our cells, which controls how they grow and behave. Smoking has many harmful chemicals, such as BP, that can attach to DNA and bend it out of shape . \n",
    "This can stop DNA from working properly and cause mutations that lead to cancer. Smoking can cause many types of cancer, such as lung, mouth, and bladder cancer . \n",
    "The more and longer a person smokes, the higher their cancer risk. Quitting smoking can lower the risk, but it may take years to undo the damage.The best way to avoid smoking-related cancer is to never smoke or quit as soon as possible.\n",
    "\n",
    "\\n\\n\n",
    "[question_2]: How does an earthquake cause a tsunami?\\n\n",
    "[answer_2]: \n",
    "An earthquake causes a tsunami by displacing a large amount of water in the ocean. When two tectonic plates collide or slide past each other, they can create a sudden movement of the sea floor, which lifts or drops the water above it. \n",
    "This creates a series of waves that travel across the ocean at high speeds. The waves can grow larger and more destructive as they approach shallow coastal areas, where the water depth decreases and the wave height increases. \n",
    "Earthquakes are the most common cause of tsunamis, but they can also be triggered by volcanic eruptions or landslides\n",
    "\n",
    "\"\"\"\n",
    "\n",
    "COTs_prompt= \"Example questions:\\n\"+few_shot"
   ]
  },
  {
   "cell_type": "code",
   "execution_count": null,
   "id": "179b0887-e0dd-4cc8-9117-43b48d6da977",
   "metadata": {},
   "outputs": [],
   "source": []
  },
  {
   "cell_type": "markdown",
   "id": "8553e6de-0ce4-49ab-80ea-0f3a57bc4c50",
   "metadata": {},
   "source": [
    "### Configuration of UnifiedQA model: "
   ]
  },
  {
   "cell_type": "code",
   "execution_count": 3,
   "id": "a4707d47-4bdd-4f19-b7f8-437c904ad8c3",
   "metadata": {
    "tags": []
   },
   "outputs": [
    {
     "name": "stderr",
     "output_type": "stream",
     "text": [
      "/upb/users/z/zahera/profiles/unix/cs/.conda/envs/causalQA/lib/python3.10/site-packages/tqdm/auto.py:21: TqdmWarning: IProgress not found. Please update jupyter and ipywidgets. See https://ipywidgets.readthedocs.io/en/stable/user_install.html\n",
      "  from .autonotebook import tqdm as notebook_tqdm\n",
      "/upb/users/z/zahera/profiles/unix/cs/.conda/envs/causalQA/lib/python3.10/site-packages/torch/cuda/__init__.py:611: UserWarning: Can't initialize NVML\n",
      "  warnings.warn(\"Can't initialize NVML\")\n"
     ]
    }
   ],
   "source": [
    "import pandas as pd\n",
    "import json\n",
    "\n",
    "from transformers import T5Tokenizer, T5ForConditionalGeneration"
   ]
  },
  {
   "cell_type": "code",
   "execution_count": 4,
   "id": "35a9a31f-5eb7-486e-87be-0084bbc27c7d",
   "metadata": {
    "tags": []
   },
   "outputs": [
    {
     "name": "stderr",
     "output_type": "stream",
     "text": [
      "You are using the default legacy behaviour of the <class 'transformers.models.t5.tokenization_t5.T5Tokenizer'>. If you see this, DO NOT PANIC! This is expected, and simply means that the `legacy` (previous) behavior will be used so nothing changes for you. If you want to use the new behaviour, set `legacy=True`. This should only be set if you understand what it means, and thouroughly read the reason why this was added as explained in https://github.com/huggingface/transformers/pull/24565\n"
     ]
    }
   ],
   "source": [
    "tokenizer = T5Tokenizer.from_pretrained(\"allenai/unifiedqa-v2-t5-base-1363200\", max_length=512, truncation=True)\n",
    "\n",
    "model_path = \"../../Webis-CausalQA-22-v-2.0/models/original_splits/\"+ model_name\n",
    "model = T5ForConditionalGeneration.from_pretrained(model_path)"
   ]
  },
  {
   "cell_type": "code",
   "execution_count": 5,
   "id": "1b0cec0c-1351-4ca2-857a-e6aba1753665",
   "metadata": {
    "tags": []
   },
   "outputs": [],
   "source": [
    "def run_model(input_string, **generator_args):\n",
    "    input_ids = tokenizer.encode(input_string, return_tensors=\"pt\")\n",
    "    res = model.generate(input_ids, max_length=200, **generator_args)\n",
    "    \n",
    "    return tokenizer.batch_decode(res, skip_special_tokens=True)"
   ]
  },
  {
   "cell_type": "markdown",
   "id": "39e78325-6d85-4e10-af5c-2771353a781d",
   "metadata": {},
   "source": [
    "### Load the dataset and answer the questions: "
   ]
  },
  {
   "cell_type": "code",
   "execution_count": 6,
   "id": "a2dde33a-fb99-444b-9218-91e177a2315d",
   "metadata": {
    "tags": []
   },
   "outputs": [],
   "source": [
    "dataset_df= pd.read_csv(path)\n",
    "\n",
    "dataset_df['generated_answer']=\"\"\n",
    "\n",
    "\n",
    "#iterate over the questions and answers: \n",
    "for row in dataset_df.itertuples():\n",
    "        \n",
    "    # answer the question using the model\n",
    "    generated_answer=run_model(\"Let's think step by step to answer the question: \"+row.question_processed+'\\n\\n'+COTs_prompt)\n",
    "    \n",
    "    dataset_df.loc[row.Index,'generated_answer']= generated_answer[0]\n",
    "    \n",
    "dataset_df.to_csv(out_dir+'/'+dataset_name)"
   ]
  },
  {
   "cell_type": "markdown",
   "id": "2ce28c8c-553c-4747-913e-a88e41a4a5a1",
   "metadata": {},
   "source": [
    "### Evaluation using EM and F1 metrics:"
   ]
  },
  {
   "cell_type": "code",
   "execution_count": 7,
   "id": "2e09580b-e9c5-4e45-94c6-c0a945bfd06c",
   "metadata": {
    "tags": []
   },
   "outputs": [],
   "source": [
    "import os\n",
    "import sys\n",
    "sys.path.append('../../src')\n",
    "\n",
    "import measures"
   ]
  },
  {
   "cell_type": "code",
   "execution_count": 8,
   "id": "2a3bc1da-157c-4f74-8f5c-b1dc61ff1037",
   "metadata": {
    "tags": []
   },
   "outputs": [],
   "source": [
    "os.chdir(out_dir)\n",
    "\n",
    "def evaluate_unifiedqa(predictions, answers):\n",
    "    \n",
    "    result = {}\n",
    "    result['checkpoint'] = model_name\n",
    "    result['metrics'] = measures.all_metrics(predictions, answers)\n",
    "    result['predictions'] = predictions\n",
    "\n",
    "   \n",
    "    filename=dataset_name.split('.')[0]\n",
    "    filename=filename+\".json\"\n",
    "    \n",
    "    with open(filename, 'w+') as file:\n",
    "        json.dump(result, file, indent=4)\n",
    "        \n",
    "    print ('results saved at ', out_dir+filename)"
   ]
  },
  {
   "cell_type": "code",
   "execution_count": 9,
   "id": "583c0403-4a82-4e16-8bbf-94a17fba5074",
   "metadata": {
    "tags": []
   },
   "outputs": [
    {
     "name": "stdout",
     "output_type": "stream",
     "text": [
      "results saved at  ../../output/UnifiedQA-results/COTs-fewshot/gooaq_valid_original_split.json\n"
     ]
    }
   ],
   "source": [
    "predictions= dataset_df['generated_answer'].tolist()\n",
    "answers= dataset_df['answer_processed'].tolist()\n",
    "\n",
    "answers= [[answer] for answer in answers]\n",
    "\n",
    "evaluate_unifiedqa(predictions, answers)"
   ]
  },
  {
   "cell_type": "code",
   "execution_count": null,
   "id": "67e85aa8-aab3-4d71-b497-ddee87dae17a",
   "metadata": {},
   "outputs": [],
   "source": []
  }
 ],
 "metadata": {
  "kernelspec": {
   "display_name": "causalQA",
   "language": "python",
   "name": "causalqa"
  },
  "language_info": {
   "codemirror_mode": {
    "name": "ipython",
    "version": 3
   },
   "file_extension": ".py",
   "mimetype": "text/x-python",
   "name": "python",
   "nbconvert_exporter": "python",
   "pygments_lexer": "ipython3",
   "version": "3.10.0"
  }
 },
 "nbformat": 4,
 "nbformat_minor": 5
}
