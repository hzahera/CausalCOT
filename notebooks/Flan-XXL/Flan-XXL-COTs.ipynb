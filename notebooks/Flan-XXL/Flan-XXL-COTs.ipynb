{
 "cells": [
  {
   "cell_type": "markdown",
   "id": "59a06ab9-e6d3-4533-9ac9-aa37156e3201",
   "metadata": {},
   "source": [
    "### Specify the datasets: "
   ]
  },
  {
   "cell_type": "code",
   "execution_count": 1,
   "id": "1e7f3c1b-51d1-4f96-a69a-1446f9dd1139",
   "metadata": {
    "tags": []
   },
   "outputs": [],
   "source": [
    "# specify the name of dataset: \"hotpotqa_valid_original_split.csv\", \"gooaq_valid_original_split.csv\", or \"msmarco_valid_original_split.csv\"\n",
    "dataset_name= \"msmarco_valid_original_split.csv\"\n",
    "\n",
    "path= \"../../dataset/test/\"+dataset_name\n",
    "\n",
    "out_dir='../../output/Flan-XXL-results/COTs'\n",
    "\n",
    "# name of the fine-tuned model, the pre-trained model is named: \"msmarco-original-split/\", \"hotpotqa-original-split/\" or \"gooaq-original-split/\"\n",
    "model_name= \"google/flan-t5-xxl\"\n"
   ]
  },
  {
   "cell_type": "code",
   "execution_count": 2,
   "id": "7fcffa75-6a0a-4709-9a69-a049128599fe",
   "metadata": {
    "tags": []
   },
   "outputs": [],
   "source": [
    "# specify the chain-of-thoughts prompt: \n",
    "COTs_prompt= \"Find the answer of the question from the context: \\n\""
   ]
  },
  {
   "cell_type": "markdown",
   "id": "ef3c8759-fa9a-499e-a311-a3332d308a63",
   "metadata": {},
   "source": [
    "### Configuration of FLAN-XXL model: "
   ]
  },
  {
   "cell_type": "code",
   "execution_count": 3,
   "id": "78bb9881-c065-473e-9a30-17d8ebd067bb",
   "metadata": {
    "tags": []
   },
   "outputs": [
    {
     "name": "stderr",
     "output_type": "stream",
     "text": [
      "/upb/users/z/zahera/profiles/unix/cs/.conda/envs/causalQA/lib/python3.10/site-packages/tqdm/auto.py:21: TqdmWarning: IProgress not found. Please update jupyter and ipywidgets. See https://ipywidgets.readthedocs.io/en/stable/user_install.html\n",
      "  from .autonotebook import tqdm as notebook_tqdm\n",
      "You are using the default legacy behaviour of the <class 'transformers.models.t5.tokenization_t5.T5Tokenizer'>. If you see this, DO NOT PANIC! This is expected, and simply means that the `legacy` (previous) behavior will be used so nothing changes for you. If you want to use the new behaviour, set `legacy=True`. This should only be set if you understand what it means, and thouroughly read the reason why this was added as explained in https://github.com/huggingface/transformers/pull/24565\n",
      "Loading checkpoint shards: 100%|██████████| 5/5 [00:03<00:00,  1.30it/s]\n"
     ]
    }
   ],
   "source": [
    "# pip install bitsandbytes accelerate\n",
    "from transformers import T5Tokenizer, T5ForConditionalGeneration, set_seed\n",
    "set_seed(42)\n",
    "\n",
    "tokenizer = T5Tokenizer.from_pretrained(model_name)\n",
    "model = T5ForConditionalGeneration.from_pretrained(model_name, device_map=\"auto\", load_in_8bit=True)"
   ]
  },
  {
   "cell_type": "code",
   "execution_count": 4,
   "id": "4813bb06-d34c-4d40-821d-0e6276bbf7b8",
   "metadata": {
    "tags": []
   },
   "outputs": [],
   "source": [
    "def run_model(input_string, **generator_args):\n",
    "    \n",
    "    input_ids = tokenizer(input_string, max_length=1000,truncation=True, return_tensors=\"pt\").input_ids.to(\"cuda\")\n",
    "    \n",
    "    res = model.generate(input_ids, max_new_tokens=200, **generator_args)\n",
    "    \n",
    "    return tokenizer.batch_decode(res, skip_special_tokens=True)"
   ]
  },
  {
   "cell_type": "markdown",
   "id": "91c5649c-f89c-4cb8-8bda-35dcdee2b889",
   "metadata": {},
   "source": [
    "### Load the dataset: "
   ]
  },
  {
   "cell_type": "code",
   "execution_count": 5,
   "id": "2dc5eb08-9431-490b-b9f1-4171f3a607c8",
   "metadata": {
    "tags": []
   },
   "outputs": [],
   "source": [
    "import pandas as pd\n",
    "import os\n",
    "import json\n"
   ]
  },
  {
   "cell_type": "code",
   "execution_count": 6,
   "id": "8621bfc6-c6c5-499f-8d30-e53d6830c83c",
   "metadata": {
    "tags": []
   },
   "outputs": [],
   "source": [
    "dataset_df= pd.read_csv(path)\n",
    "\n",
    "dataset_df['generated_answer']=\"\"\n",
    "\n",
    "#iterate over the questions and answers: \n",
    "for row in dataset_df.itertuples():\n",
    "        \n",
    "    # answer the question using the model\n",
    "    if row.context_processed!='' : \n",
    "        input_query= row.question_processed+'\\n'+COTs_prompt+row.context_processed\n",
    "    else: \n",
    "        input_query= \"Let's think step by step to answer the question: \"+row.question_processed\n",
    "\n",
    "    generated_answer=run_model(input_query)\n",
    "    dataset_df.loc[row.Index,'generated_answer']= generated_answer[0]\n",
    "\n",
    "dataset_df.to_csv(out_dir+'/'+dataset_name)"
   ]
  },
  {
   "cell_type": "markdown",
   "id": "a01e8e13-296e-480d-b1ce-75906c5b3921",
   "metadata": {},
   "source": [
    "### Evaluation using EM and F1 metrics: "
   ]
  },
  {
   "cell_type": "code",
   "execution_count": 7,
   "id": "fa802b88-3135-4281-bd7c-e8f9abe94ab1",
   "metadata": {
    "tags": []
   },
   "outputs": [],
   "source": [
    "import sys\n",
    "sys.path.append('../../src')\n",
    "\n",
    "import measures"
   ]
  },
  {
   "cell_type": "code",
   "execution_count": 8,
   "id": "b600ea04-c898-4323-99b5-408162e2ad32",
   "metadata": {
    "tags": []
   },
   "outputs": [],
   "source": [
    " os.chdir(out_dir)\n",
    "\n",
    "def evaluate_unifiedqa(predictions, answers):\n",
    "    \n",
    "    result = {}\n",
    "    result['checkpoint'] = model_name\n",
    "    result['metrics'] = measures.all_metrics(predictions, answers)\n",
    "    result['predictions'] = predictions\n",
    "\n",
    "   \n",
    "    filename=dataset_name.split('.')[0]\n",
    "    filename=filename+\".json\"\n",
    "    \n",
    "    with open(filename, 'w+') as file:\n",
    "        json.dump(result, file, indent=4)\n",
    "        \n",
    "    print ('results saved at ', out_dir+\"/\"+filename)"
   ]
  },
  {
   "cell_type": "code",
   "execution_count": 9,
   "id": "d94a5235-217e-4672-8aa7-65f5b0b02601",
   "metadata": {
    "tags": []
   },
   "outputs": [
    {
     "name": "stdout",
     "output_type": "stream",
     "text": [
      "results saved at  ../../output/Flan-XXL-results/COTs/msmarco_valid_original_split.json\n"
     ]
    }
   ],
   "source": [
    "predictions= dataset_df['generated_answer'].tolist()\n",
    "answers= dataset_df['answer_processed'].tolist()\n",
    "\n",
    "answers= [[answer] for answer in answers]\n",
    "\n",
    "evaluate_unifiedqa(predictions, answers)"
   ]
  },
  {
   "cell_type": "code",
   "execution_count": null,
   "id": "24d05669-e99d-4416-b0e0-12ea321c544d",
   "metadata": {},
   "outputs": [],
   "source": [
    "print ('done')"
   ]
  },
  {
   "cell_type": "code",
   "execution_count": null,
   "id": "f374e7d1-328c-47c8-8901-b0df21312565",
   "metadata": {},
   "outputs": [],
   "source": []
  }
 ],
 "metadata": {
  "kernelspec": {
   "display_name": "causalQA",
   "language": "python",
   "name": "causalqa"
  },
  "language_info": {
   "codemirror_mode": {
    "name": "ipython",
    "version": 3
   },
   "file_extension": ".py",
   "mimetype": "text/x-python",
   "name": "python",
   "nbconvert_exporter": "python",
   "pygments_lexer": "ipython3",
   "version": "3.10.0"
  }
 },
 "nbformat": 4,
 "nbformat_minor": 5
}
