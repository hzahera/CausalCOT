{
 "cells": [
  {
   "cell_type": "markdown",
   "id": "2f4055ac-543d-43a7-a210-035015bba508",
   "metadata": {},
   "source": [
    "---"
   ]
  },
  {
   "cell_type": "code",
   "execution_count": 1,
   "id": "776fe5d2-e525-4289-bad4-d2d37fd0d056",
   "metadata": {
    "tags": []
   },
   "outputs": [
    {
     "name": "stderr",
     "output_type": "stream",
     "text": [
      "/upb/users/z/zahera/profiles/unix/cs/.conda/envs/COTs/lib/python3.9/site-packages/tqdm/auto.py:21: TqdmWarning: IProgress not found. Please update jupyter and ipywidgets. See https://ipywidgets.readthedocs.io/en/stable/user_install.html\n",
      "  from .autonotebook import tqdm as notebook_tqdm\n"
     ]
    }
   ],
   "source": [
    "import torch\n",
    "from transformers import BitsAndBytesConfig\n",
    "from transformers import AutoModelForCausalLM, AutoTokenizer, pipeline\n",
    "import pandas as pd\n"
   ]
  },
  {
   "cell_type": "code",
   "execution_count": 2,
   "id": "ba761dc5-b859-4d61-bf73-03d0763f1273",
   "metadata": {
    "tags": []
   },
   "outputs": [],
   "source": [
    "import os\n",
    "import openai\n",
    "\n",
    "openai.api_key = \"\""
   ]
  },
  {
   "cell_type": "markdown",
   "id": "cd5cc473-7ea0-462e-8e4a-f5f151f02308",
   "metadata": {
    "tags": []
   },
   "source": [
    "## The Student Model (falcon-7b quanitized)"
   ]
  },
  {
   "cell_type": "code",
   "execution_count": 3,
   "id": "d0710130-188c-4ee5-b5e6-8e65113e7a25",
   "metadata": {
    "tags": []
   },
   "outputs": [
    {
     "name": "stderr",
     "output_type": "stream",
     "text": [
      "Loading checkpoint shards: 100%|██████████| 15/15 [00:04<00:00,  3.32it/s]\n"
     ]
    }
   ],
   "source": [
    "#configuration of quantization of Falcon\n",
    "quantization_config = BitsAndBytesConfig(\n",
    "    load_in_4bit=True,\n",
    "    bnb_4bit_compute_dtype=torch.float16,\n",
    "    bnb_4bit_quant_type=\"nf4\",\n",
    "    bnb_4bit_use_double_quant=True,\n",
    "\n",
    ")\n",
    "\n",
    "\n",
    "model_id = \"vilsonrodrigues/falcon-7b-instruct-sharded\"\n",
    "model_4bit = AutoModelForCausalLM.from_pretrained(\n",
    "        model_id, \n",
    "        device_map=\"auto\",\n",
    "        quantization_config=quantization_config,\n",
    "        )\n",
    "\n",
    "tokenizer = AutoTokenizer.from_pretrained(model_id)\n",
    "\n",
    "\n",
    "# student pipeline for answering the questions\n",
    "pipeline = pipeline(\n",
    "        \"text-generation\",\n",
    "        model=model_4bit,\n",
    "        tokenizer=tokenizer,\n",
    "        use_cache=True,\n",
    "        device_map=\"auto\",\n",
    "        max_length=600,\n",
    "        do_sample=True,\n",
    "        top_k=10,\n",
    "        num_return_sequences=1,\n",
    "        eos_token_id=tokenizer.eos_token_id,\n",
    "        pad_token_id=tokenizer.eos_token_id,\n",
    ")"
   ]
  },
  {
   "cell_type": "markdown",
   "id": "0cd049f2-1df0-4e80-b41f-2c845e08ba92",
   "metadata": {},
   "source": [
    "---\n",
    "## Evaluation:\n"
   ]
  },
  {
   "cell_type": "markdown",
   "id": "5e7dad11-8277-4178-a57d-0943f9652e62",
   "metadata": {},
   "source": [
    "### Evaluation Prompt:"
   ]
  },
  {
   "cell_type": "code",
   "execution_count": 21,
   "id": "13ccbefb-b728-4c6c-b493-3783b75048f0",
   "metadata": {
    "tags": []
   },
   "outputs": [],
   "source": [
    "prompt_evaluation=\"\"\"\n",
    "- Act as an explainability evaluation metric and score the following answer based on the input question on a scale of 0.0-10.0\n",
    "- Scoring criteria: The score of explainability represents the degree of precision in conveying the salient information to answer and explain the answer of the input question.\n",
    "\\n\n",
    "- 0:  means that the text contains answer that is not relevant to the input_question. \n",
    "- 3: means the text is too general or not specific enough to answer the question\n",
    "- 5: means that the text contains answer to the questions but it is not explainable\n",
    "- 10: means that the text contains clear answer with facts and essential information to validate it's correctness as an explainable answer to the input_question. \n",
    "\n",
    "The score is \n",
    "\"\"\"\n",
    "    \n",
    "def evaluate_explainability(question, answer): \n",
    "    \n",
    "    evaluation_message=[{\"role\": \"user\", \"content\": prompt_evaluation+\"\\nQuestion: \"+question+\"\\n Answer=\\n\"+answer}]\n",
    "    response = openai.ChatCompletion.create(\n",
    "    model=\"gpt-4\",\n",
    "    messages = evaluation_message,\n",
    "    temperature=0.0,\n",
    "    max_tokens=300,\n",
    "    frequency_penalty=0.0)\n",
    "\n",
    "    score= response[\"choices\"][0]['message']['content']\n",
    "    \n",
    "    return score    \n",
    "    "
   ]
  },
  {
   "cell_type": "markdown",
   "id": "070b52a4-7cdc-4ad9-9716-dec81055e702",
   "metadata": {},
   "source": [
    "## Prompt Tuning"
   ]
  },
  {
   "cell_type": "code",
   "execution_count": 6,
   "id": "4d5955ce-7516-4e72-a70a-78df4d194a62",
   "metadata": {
    "tags": []
   },
   "outputs": [],
   "source": [
    "prompt_teacher= \"\"\"\n",
    "- Act as a prompt engineer and change the text to be an informative Prompt.\n",
    "- The goal is to improve the explainability_score to be equal or more than 9.0 by writing an informative prompt with Few_examples (e.g., one or two). \n",
    "- The examples are a set of questions that are different, but related to the input_question (but not the same) with their explainable answers.\n",
    "- The maximum length of your should not exceed 300 tokens.\n",
    "\n",
    "- The format of your response should be: \n",
    "< Examples: a list of pairs (question, it's explainable answer)>\n",
    "\\n\n",
    "< Prompt : write here the changed prompt>\n",
    "\\n\n",
    "< Input_question: write here the Input_question>\n",
    "\"\"\"\n",
    "\n",
    "def prompt_tuning(prompt_student,explainability_score) : \n",
    "    \n",
    "    message=[{\"role\": \"user\", \"content\": prompt_teacher+\"\\n Text=\\n\"+prompt_student}]\n",
    "    response = openai.ChatCompletion.create(\n",
    "    model=\"gpt-4\",\n",
    "    messages = message,\n",
    "    temperature=0.0,\n",
    "    max_tokens=300,\n",
    "    frequency_penalty=0.0\n",
    "    )\n",
    "    \n",
    "    updated_prompt= response[\"choices\"][0]['message']['content']\n",
    "    \n",
    "    return updated_prompt\n"
   ]
  },
  {
   "cell_type": "markdown",
   "id": "9b3e8892-0148-4c73-a29e-8e54d5101c7f",
   "metadata": {},
   "source": [
    "### Teacher-Student Loop:"
   ]
  },
  {
   "cell_type": "code",
   "execution_count": 10,
   "id": "30cf1704-3734-465c-a8e9-d68aaa5d7e53",
   "metadata": {
    "tags": []
   },
   "outputs": [],
   "source": [
    "question = \"Why do some people develop allergies to certain foods, while others do not?\""
   ]
  },
  {
   "cell_type": "code",
   "execution_count": 22,
   "id": "904b3dc2-5515-4e25-b4de-a6ed9512470e",
   "metadata": {
    "tags": []
   },
   "outputs": [
    {
     "data": {
      "text/plain": [
       "'8.0'"
      ]
     },
     "execution_count": 22,
     "metadata": {},
     "output_type": "execute_result"
    }
   ],
   "source": [
    "prompt_student=\"Answer the question: \\nQ: \"+question\n",
    "\n",
    "\n",
    "def student_answer(prompt_student): \n",
    "    answer=pipeline(prompt_student)\n",
    "    student_answer= answer[0]['generated_text'].replace(prompt_student, \"\")\n",
    "    \n",
    "    return student_answer\n",
    "\n",
    "answer= student_answer(prompt_student)\n",
    "\n",
    "score=evaluate_explainability(question,answer)\n",
    "#score before prompt tuning\n",
    "score"
   ]
  },
  {
   "cell_type": "code",
   "execution_count": 23,
   "id": "fe49697d-b921-4be9-9072-2c82b79e9f1f",
   "metadata": {
    "tags": []
   },
   "outputs": [
    {
     "data": {
      "text/plain": [
       "'\\nA: Allergies to certain foods are caused by an overreaction of the immune system. Some people may be born with a genetic predisposition to food allergies, while others may develop the condition in later life due to environmental factors.'"
      ]
     },
     "execution_count": 23,
     "metadata": {},
     "output_type": "execute_result"
    }
   ],
   "source": [
    "answer"
   ]
  },
  {
   "cell_type": "code",
   "execution_count": 24,
   "id": "836aef7f-291f-4947-9f02-6a75e56d488b",
   "metadata": {
    "tags": []
   },
   "outputs": [],
   "source": [
    "# loop for a fixed number of itera\n",
    "max_iterations = 2\n",
    "updated_prompt= prompt_student\n",
    "\n",
    "while (float(score) <9.5 and max_iterations > 0): \n",
    "        \n",
    "    updated_prompt=prompt_tuning(updated_prompt,score)\n",
    "    \n",
    "    # Ask the student\n",
    "    answer= student_answer(updated_prompt)\n",
    "    \n",
    "    #compute the new score of explainability\n",
    "    score=evaluate_explainability(question,answer)\n",
    "    \n",
    "    max_iterations-=1"
   ]
  },
  {
   "cell_type": "code",
   "execution_count": 25,
   "id": "dfad7559-da44-461a-a2d3-6f748ff9575d",
   "metadata": {
    "tags": []
   },
   "outputs": [
    {
     "data": {
      "text/plain": [
       "'10.0'"
      ]
     },
     "execution_count": 25,
     "metadata": {},
     "output_type": "execute_result"
    }
   ],
   "source": [
    "score"
   ]
  },
  {
   "cell_type": "code",
   "execution_count": 27,
   "id": "0f79fe20-6c51-429b-83a3-308fcf2b2e23",
   "metadata": {
    "tags": []
   },
   "outputs": [
    {
     "name": "stdout",
     "output_type": "stream",
     "text": [
      "Examples: \n",
      "1. Question: Why are some people lactose intolerant while others are not?\n",
      "   Answer: Lactose intolerance is a common digestive disorder where the body is unable to fully digest lactose, a sugar found in milk and dairy products. This is caused by a deficiency in lactase, an enzyme produced by the small intestine that breaks down lactose. The amount of lactase produced can vary greatly between individuals due to genetic factors, which explains why some people are lactose intolerant while others are not.\n",
      "\n",
      "2. Question: Why do some people have gluten intolerance while others don't?\n",
      "   Answer: Gluten intolerance, or celiac disease, is a condition where the body's immune system reacts to gluten, a protein found in wheat, barley, and rye. This reaction damages the lining of the small intestine, leading to various digestive problems. The exact cause of celiac disease is unknown, but it is believed to involve a combination of genetic and environmental factors. This is why some people develop gluten intolerance while others do not.\n",
      "\n",
      "Prompt: \n",
      "Please provide a detailed explanation to the question: Why do some individuals develop allergies to specific foods, while others do not? Consider factors such as genetics, immune system response, and environmental influences in your response.\n",
      "\n",
      "Input_question: \n",
      "Why do some people develop allergies to certain foods, while others do not?\n"
     ]
    }
   ],
   "source": [
    "print (updated_prompt)"
   ]
  },
  {
   "cell_type": "code",
   "execution_count": 28,
   "id": "05fd73f1-84d9-4918-95f8-8e495224fb25",
   "metadata": {
    "tags": []
   },
   "outputs": [
    {
     "data": {
      "text/plain": [
       "\" There are a few factors that can contribute to the development of food allergies, including genetics, immune responses, and environmental influences. \\n\\nA primary reason why one person may develop a food allergy while another does not may have to do with a genetic component. Inherited traits can determine whether a person develops a heightened immune response to certain substances. This can result in allergic reactions, including the development of food allergies. \\n\\nEnvironmental factors that can affect the development of food allergies include exposure to allergens during infancy, such as breastfed infants who develop an allergy to breast milk proteins. Additionally, exposure to foods at an early age can increase a child's likelihood of developing food allergies later in life. \\n\\nEnvironmental factors that may contribute to the development of food allergies include a lack of exposure to allergens or a low level of immunological tolerance to particular substances. This is why some children may be able to consume a food without developing an allergic reaction while others may experience symptoms such as skin rashes or gastrointestinal problems. \\n\\nIn conclusion, food allergies are caused by a combination of genetic and environmental factors, with each individual's reaction being unique. Understanding the specific factors that contribute to food allergies can help individuals manage their symptoms and prevent reactions, as avoiding a food that triggers symptoms is often the best way to manage symptoms.\""
      ]
     },
     "execution_count": 28,
     "metadata": {},
     "output_type": "execute_result"
    }
   ],
   "source": [
    "answer"
   ]
  },
  {
   "cell_type": "code",
   "execution_count": null,
   "id": "9e8e75aa-0bb6-471c-83a1-b8b87f1c6849",
   "metadata": {},
   "outputs": [],
   "source": []
  }
 ],
 "metadata": {
  "kernelspec": {
   "display_name": "COTs",
   "language": "python",
   "name": "cots"
  },
  "language_info": {
   "codemirror_mode": {
    "name": "ipython",
    "version": 3
   },
   "file_extension": ".py",
   "mimetype": "text/x-python",
   "name": "python",
   "nbconvert_exporter": "python",
   "pygments_lexer": "ipython3",
   "version": "3.9.17"
  }
 },
 "nbformat": 4,
 "nbformat_minor": 5
}
